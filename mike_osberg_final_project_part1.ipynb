{
 "cells": [
  {
   "cell_type": "markdown",
   "metadata": {},
   "source": [
    "# Final Project - Project Proposal"
   ]
  },
  {
   "cell_type": "markdown",
   "metadata": {},
   "source": [
    "## Problem Statement"
   ]
  },
  {
   "cell_type": "markdown",
   "metadata": {},
   "source": [
    "## Key Elements ##\n",
    "- The target variable you want to predict.\n",
    "- How predicting that target variable could help with some kind of decision.\n",
    "- The features you want to use to predict that target variable.\n",
    "- Goals and success metrics\n",
    "- Risks or limitations\n",
    "- Identify at least one relevant dataset and load it into a Pandas dataframe."
   ]
  },
  {
   "cell_type": "markdown",
   "metadata": {},
   "source": [
    "**Predicted Variable**\n",
    "I want to predict the location of care seeking for a patient with certain symptoms/disease\n",
    "\n",
    "**Decision Support**\n",
    "In order to meet patients where they access care, health systems need to better understand patterns of care seeking that patients exhibit. \n",
    "\n",
    "**Features**\n",
    "I would want to predict patient care seeking based on geography, education level, income level, distance to different health facilities, size of their home city, proximity of their home city to a big city. \n",
    "\n",
    "**Dataset** I'll plan to use the Demographic and Health Survey - a national level survey that is done in countries around the world focusing on demographic and health related questions. "
   ]
  },
  {
   "cell_type": "code",
   "execution_count": null,
   "metadata": {},
   "outputs": [],
   "source": []
  }
 ],
 "metadata": {
  "kernelspec": {
   "display_name": "Python 3",
   "language": "python",
   "name": "python3"
  },
  "language_info": {
   "codemirror_mode": {
    "name": "ipython",
    "version": 3
   },
   "file_extension": ".py",
   "mimetype": "text/x-python",
   "name": "python",
   "nbconvert_exporter": "python",
   "pygments_lexer": "ipython3",
   "version": "3.7.0"
  }
 },
 "nbformat": 4,
 "nbformat_minor": 2
}
